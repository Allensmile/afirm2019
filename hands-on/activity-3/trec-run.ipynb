{
 "cells": [
  {
   "cell_type": "markdown",
   "metadata": {},
   "source": [
    "# Elasticsearch TREC Run\n",
    "\n",
    "\n",
    "\n",
    "\n",
    "\n",
    "## Getting Started\n",
    "\n",
    "In this example, we will use the Elaticsearch Python API. First, we will import and set-up all of the required Python modules and variables we will use later on. Additionally, if you wish to use `curl` instead of the Python api, the complimentary command line function has been commented above each API request."
   ]
  },
  {
   "cell_type": "code",
   "execution_count": 1,
   "metadata": {},
   "outputs": [
    {
     "ename": "ModuleNotFoundError",
     "evalue": "No module named 'irkit'",
     "output_type": "error",
     "traceback": [
      "\u001b[0;31m--------------------------------------------------\u001b[0m",
      "\u001b[0;31mModuleNotFoundError\u001b[0mTraceback (most recent call last)",
      "\u001b[0;32m<ipython-input-1-46966fba7e2c>\u001b[0m in \u001b[0;36m<module>\u001b[0;34m\u001b[0m\n\u001b[1;32m      1\u001b[0m \u001b[0;32mfrom\u001b[0m \u001b[0melasticsearch\u001b[0m \u001b[0;32mimport\u001b[0m \u001b[0mElasticsearch\u001b[0m\u001b[0;34m\u001b[0m\u001b[0;34m\u001b[0m\u001b[0m\n\u001b[0;32m----> 2\u001b[0;31m \u001b[0;32mfrom\u001b[0m \u001b[0mirkit\u001b[0m\u001b[0;34m.\u001b[0m\u001b[0mtrec\u001b[0m \u001b[0;32mimport\u001b[0m \u001b[0mrun\u001b[0m\u001b[0;34m\u001b[0m\u001b[0;34m\u001b[0m\u001b[0m\n\u001b[0m\u001b[1;32m      3\u001b[0m \u001b[0;32mimport\u001b[0m \u001b[0mpandas\u001b[0m \u001b[0;32mas\u001b[0m \u001b[0mpd\u001b[0m\u001b[0;34m\u001b[0m\u001b[0;34m\u001b[0m\u001b[0m\n\u001b[1;32m      4\u001b[0m \u001b[0mes\u001b[0m \u001b[0;34m=\u001b[0m \u001b[0mElasticsearch\u001b[0m\u001b[0;34m(\u001b[0m\u001b[0murls\u001b[0m\u001b[0;34m=\u001b[0m\u001b[0;34m[\u001b[0m\u001b[0;34m'localhost'\u001b[0m\u001b[0;34m]\u001b[0m\u001b[0;34m,\u001b[0m \u001b[0mport\u001b[0m\u001b[0;34m=\u001b[0m\u001b[0;36m9200\u001b[0m\u001b[0;34m)\u001b[0m\u001b[0;34m\u001b[0m\u001b[0;34m\u001b[0m\u001b[0m\n",
      "\u001b[0;31mModuleNotFoundError\u001b[0m: No module named 'irkit'"
     ]
    }
   ],
   "source": [
    "from elasticsearch import Elasticsearch\n",
    "from irkit.trec import run\n",
    "import pandas as pd\n",
    "es = Elasticsearch(urls=['localhost'], port=9200)"
   ]
  },
  {
   "cell_type": "markdown",
   "metadata": {},
   "source": [
    "## From Elasticsearch `hits` to TREC result file\n",
    "\n",
    "We will use Elasticsearch to retrieve some documents and use the ir-kit `run` module to produce a properly formatted TREC run file."
   ]
  },
  {
   "cell_type": "code",
   "execution_count": null,
   "metadata": {},
   "outputs": [],
   "source": [
    "query = \\\n",
    "{\n",
    "    'query': {\n",
    "        'match_all': {}\n",
    "    }\n",
    "}\n",
    "\n",
    "# curl -X GET localhost:9200/goma/_search -H 'Content-Type: application/json' -d @query.json\n",
    "res = es.search(index='goma', body=query)\n",
    "\n",
    "hits = []\n",
    "for rank, hit in enumerate(res['hits']['hits'], 1):\n",
    "    hits.append(run.TrecEvalRun(rank=rank, doc_id=hit['_id'], q=0, score=hit['_score'],\n",
    "                                run_id='example', topic=0))\n",
    "\n",
    "print(run.TrecEvalRuns(hits).dumps())"
   ]
  },
  {
   "cell_type": "markdown",
   "metadata": {},
   "source": [
    "More often than not, however, we have more than one topic (multiple queries)."
   ]
  },
  {
   "cell_type": "code",
   "execution_count": null,
   "metadata": {},
   "outputs": [],
   "source": [
    "keywords = ['art', 'gallery', 'australia']\n",
    "query_template = \\\n",
    "{\n",
    "    'query': {\n",
    "        'match': {\n",
    "            'description': ''\n",
    "        }\n",
    "    }\n",
    "}\n",
    "hits = []\n",
    "for topic, keyword in enumerate(keywords):\n",
    "    query_template['query']['match']['description'] = keyword\n",
    "    \n",
    "    res = es.search(index='goma', body=query)\n",
    "    \n",
    "    for rank, hit in enumerate(res['hits']['hits'], 1):\n",
    "        hits.append(run.TrecEvalRun(rank=rank, doc_id=hit['_id'], q=0, score=hit['_score'],\n",
    "                                    run_id='example', topic=topic))\n",
    "\n",
    "print(run.TrecEvalRuns(hits).dumps())"
   ]
  },
  {
   "cell_type": "markdown",
   "metadata": {},
   "source": [
    "#### Exercise 1\n",
    "\n",
    "Create code to produce TREC formatted runs for the following queries:\n",
    "\n",
    "* query 3: african art\n",
    "* query 4: brisbane art\n",
    "* query 5: \n",
    "\n",
    "\n",
    "\n",
    "#### Exercise 2\n",
    "\n",
    "Create code to produce TREC formatted runs for the queries below. Run these queries on the ClueWeb12_sample collection (from activity 1). Change the maximum number of retrieved documents to 20.\n",
    "\n",
    "* query 100:\n",
    "* query 101:\n",
    "\n",
    "\n",
    "(Note, in typical retrieval experiments, often the limit is set to 1,000; but this is not a rule: e.g. the last TREC Web tracks asked participants to retrieve up to rank 10,000)."
   ]
  }
 ],
 "metadata": {
  "kernelspec": {
   "display_name": "Python 3",
   "language": "python",
   "name": "python3"
  },
  "language_info": {
   "codemirror_mode": {
    "name": "ipython",
    "version": 3
   },
   "file_extension": ".py",
   "mimetype": "text/x-python",
   "name": "python",
   "nbconvert_exporter": "python",
   "pygments_lexer": "ipython3",
   "version": "3.7.2"
  }
 },
 "nbformat": 4,
 "nbformat_minor": 2
}
