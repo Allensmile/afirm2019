{
 "cells": [
  {
   "cell_type": "markdown",
   "metadata": {},
   "source": [
    "# Elasticsearch TREC Run\n",
    "\n",
    "\n",
    "\n",
    "\n",
    "\n",
    "## Getting Started\n",
    "\n",
    "In this example, we will use the Elaticsearch Python API. First, we will import and set-up all of the required Python modules and variables we will use later on. Additionally, if you wish to use `curl` instead of the Python api, the complimentary command line function has been commented above each API request."
   ]
  },
  {
   "cell_type": "code",
   "execution_count": 1,
   "metadata": {},
   "outputs": [],
   "source": [
    "from elasticsearch import Elasticsearch\n",
    "from irkit.trec import run\n",
    "import pandas as pd\n",
    "es = Elasticsearch(urls=['localhost'], port=9200)"
   ]
  },
  {
   "cell_type": "markdown",
   "metadata": {},
   "source": [
    "## From Elasticsearch `hits` to TREC result file\n",
    "\n",
    "We will use Elasticsearch to retrieve some documents and use the ir-kit `run` module to produce a properly formatted TREC run file."
   ]
  },
  {
   "cell_type": "code",
   "execution_count": 2,
   "metadata": {},
   "outputs": [
    {
     "name": "stdout",
     "output_type": "stream",
     "text": [
      "0\tQ0\tAV19Sgi4jk6MoKTLfifp\t1\t1.0\texample\n",
      "0\tQ0\tAV19Sgi4jk6MoKTLfifq\t2\t1.0\texample\n",
      "0\tQ0\tAV19Sgi4jk6MoKTLfifu\t3\t1.0\texample\n",
      "0\tQ0\tAV19Sgi4jk6MoKTLfifv\t4\t1.0\texample\n",
      "0\tQ0\tAV19Sgi4jk6MoKTLfif5\t5\t1.0\texample\n",
      "0\tQ0\tAV19Sgi4jk6MoKTLfigP\t6\t1.0\texample\n",
      "0\tQ0\tAV19Sgi4jk6MoKTLfigQ\t7\t1.0\texample\n",
      "0\tQ0\tAV19Sgi4jk6MoKTLfigc\t8\t1.0\texample\n",
      "0\tQ0\tAV19Sgi4jk6MoKTLfige\t9\t1.0\texample\n",
      "0\tQ0\tAV19Sgi4jk6MoKTLfigo\t10\t1.0\texample\n"
     ]
    }
   ],
   "source": [
    "query = \\\n",
    "{\n",
    "    'query': {\n",
    "        'match_all': {}\n",
    "    }\n",
    "}\n",
    "\n",
    "# curl -X GET localhost:9200/goma/_search -H 'Content-Type: application/json' -d @query.json\n",
    "res = es.search(index='goma', body=query)\n",
    "\n",
    "hits = []\n",
    "for rank, hit in enumerate(res['hits']['hits'], 1):\n",
    "    hits.append(run.TrecEvalRun(rank=rank, doc_id=hit['_id'], q=0, score=hit['_score'],\n",
    "                                run_id='example', topic=0))\n",
    "\n",
    "print(run.TrecEvalRuns(hits).dumps())"
   ]
  },
  {
   "cell_type": "markdown",
   "metadata": {},
   "source": [
    "More often than not, however, we have more than one topic (multiple queries)."
   ]
  },
  {
   "cell_type": "code",
   "execution_count": 3,
   "metadata": {},
   "outputs": [
    {
     "name": "stdout",
     "output_type": "stream",
     "text": [
      "0\tQ0\tAV19Sgi4jk6MoKTLfifp\t1\t1.0\texample\n",
      "0\tQ0\tAV19Sgi4jk6MoKTLfifq\t2\t1.0\texample\n",
      "0\tQ0\tAV19Sgi4jk6MoKTLfifu\t3\t1.0\texample\n",
      "0\tQ0\tAV19Sgi4jk6MoKTLfifv\t4\t1.0\texample\n",
      "0\tQ0\tAV19Sgi4jk6MoKTLfif5\t5\t1.0\texample\n",
      "0\tQ0\tAV19Sgi4jk6MoKTLfigP\t6\t1.0\texample\n",
      "0\tQ0\tAV19Sgi4jk6MoKTLfigQ\t7\t1.0\texample\n",
      "0\tQ0\tAV19Sgi4jk6MoKTLfigc\t8\t1.0\texample\n",
      "0\tQ0\tAV19Sgi4jk6MoKTLfige\t9\t1.0\texample\n",
      "0\tQ0\tAV19Sgi4jk6MoKTLfigo\t10\t1.0\texample\n",
      "1\tQ0\tAV19Sgi4jk6MoKTLfifp\t1\t1.0\texample\n",
      "1\tQ0\tAV19Sgi4jk6MoKTLfifq\t2\t1.0\texample\n",
      "1\tQ0\tAV19Sgi4jk6MoKTLfifu\t3\t1.0\texample\n",
      "1\tQ0\tAV19Sgi4jk6MoKTLfifv\t4\t1.0\texample\n",
      "1\tQ0\tAV19Sgi4jk6MoKTLfif5\t5\t1.0\texample\n",
      "1\tQ0\tAV19Sgi4jk6MoKTLfigP\t6\t1.0\texample\n",
      "1\tQ0\tAV19Sgi4jk6MoKTLfigQ\t7\t1.0\texample\n",
      "1\tQ0\tAV19Sgi4jk6MoKTLfigc\t8\t1.0\texample\n",
      "1\tQ0\tAV19Sgi4jk6MoKTLfige\t9\t1.0\texample\n",
      "1\tQ0\tAV19Sgi4jk6MoKTLfigo\t10\t1.0\texample\n",
      "2\tQ0\tAV19Sgi4jk6MoKTLfifp\t1\t1.0\texample\n",
      "2\tQ0\tAV19Sgi4jk6MoKTLfifq\t2\t1.0\texample\n",
      "2\tQ0\tAV19Sgi4jk6MoKTLfifu\t3\t1.0\texample\n",
      "2\tQ0\tAV19Sgi4jk6MoKTLfifv\t4\t1.0\texample\n",
      "2\tQ0\tAV19Sgi4jk6MoKTLfif5\t5\t1.0\texample\n",
      "2\tQ0\tAV19Sgi4jk6MoKTLfigP\t6\t1.0\texample\n",
      "2\tQ0\tAV19Sgi4jk6MoKTLfigQ\t7\t1.0\texample\n",
      "2\tQ0\tAV19Sgi4jk6MoKTLfigc\t8\t1.0\texample\n",
      "2\tQ0\tAV19Sgi4jk6MoKTLfige\t9\t1.0\texample\n",
      "2\tQ0\tAV19Sgi4jk6MoKTLfigo\t10\t1.0\texample\n"
     ]
    }
   ],
   "source": [
    "keywords = ['art', 'gallery', 'australia']\n",
    "query_template = \\\n",
    "{\n",
    "    'query': {\n",
    "        'match': {\n",
    "            'description': ''\n",
    "        }\n",
    "    }\n",
    "}\n",
    "hits = []\n",
    "for topic, keyword in enumerate(keywords):\n",
    "    query_template['query']['match']['description'] = keyword\n",
    "    \n",
    "    res = es.search(index='goma', body=query)\n",
    "    \n",
    "    for rank, hit in enumerate(res['hits']['hits'], 1):\n",
    "        hits.append(run.TrecEvalRun(rank=rank, doc_id=hit['_id'], q=0, score=hit['_score'],\n",
    "                                    run_id='example', topic=topic))\n",
    "\n",
    "print(run.TrecEvalRuns(hits).dumps())"
   ]
  },
  {
   "cell_type": "markdown",
   "metadata": {},
   "source": [
    "#### Exercise 1\n",
    "\n",
    "Create code to produce TREC formatted runs for the following queries:\n",
    "\n",
    "* query 3: african art\n",
    "* query 4: brisbane art\n",
    "* query 5: \n",
    "\n",
    "\n",
    "\n",
    "#### Exercise 2\n",
    "\n",
    "Create code to produce TREC formatted runs for the queries below. Run these queries on the ClueWeb12_sample collection (from activity 1). Change the maximum number of retrieved documents to 20.\n",
    "\n",
    "* query 100:\n",
    "* query 101:\n",
    "\n",
    "\n",
    "(Note, in typical retrieval experiments, often the limit is set to 1,000; but this is not a rule: e.g. the last TREC Web tracks asked participants to retrieve up to rank 10,000)."
   ]
  }
 ],
 "metadata": {
  "kernelspec": {
   "display_name": "Python 3",
   "language": "python",
   "name": "python3"
  },
  "language_info": {
   "codemirror_mode": {
    "name": "ipython",
    "version": 3
   },
   "file_extension": ".py",
   "mimetype": "text/x-python",
   "name": "python",
   "nbconvert_exporter": "python",
   "pygments_lexer": "ipython3",
   "version": "3.7.2"
  }
 },
 "nbformat": 4,
 "nbformat_minor": 2
}
